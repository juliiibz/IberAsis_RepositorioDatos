{
 "cells": [
  {
   "cell_type": "markdown",
   "id": "5b29fa29",
   "metadata": {},
   "source": [
    "<img src=\"Imagenes/logo.png\" alt=\"IPython Notebook\" style=\"width: 200px;\"/>"
   ]
  },
  {
   "cell_type": "markdown",
   "id": "4bd8924b",
   "metadata": {},
   "source": [
    "***"
   ]
  },
  {
   "cell_type": "markdown",
   "id": "97ebba75",
   "metadata": {},
   "source": [
    "<p style= \"text-align:center; font-family: Calibri; font-size: x-large; color: black; font-weight:bold;\"> DETECCIÓN DE TEXTO EN ARCHIVO, PARA LA VERIFICACIÓN DE VIDA LABORAL Y ANTECEDENTES DE CUIDADORES DE IBERASIS </p>\n",
    "\n",
    "<p style= \"text-align:center; font-family: Calibri; font-size: medium; color: black; font-weight:bold;\"> Julieta Benítez │ PROYECTO FINAL A4 | PBD1 </p>"
   ]
  },
  {
   "cell_type": "markdown",
   "id": "c4146767",
   "metadata": {},
   "source": [
    "En este Notebook se realizará la extracción de datos de un documento correspondiente con la vida laboral de una persona, código que se utilizará de forma automática en la aplicaciónde IberAsis, el cual tiene como objetivo la selección de perfiles para el sector geriátrico, dependencia y niños en tiempo real, mediante la verificación de antiguos empleadores y la comprobación de vida laboral y antecedentes.\n",
    "\n",
    "IberAsis comprobará la seguridad de los posibles cuidadores, verificando el **informe de vida laboral** y el **certificado de antecedentes penales**, mediante el código CEA en el primer caso, y el código seguro de verificación en el último caso. Para ambos sucesos se deberá extraer primeramente los datos del archivo pdf en cuestión, que es lo que se ha realizado a continuación, utilizando OCR de Google Cloud Vision:"
   ]
  },
  {
   "cell_type": "code",
   "execution_count": 1,
   "id": "cd1a4178",
   "metadata": {},
   "outputs": [],
   "source": [
    "#Importamos librerías necesarias\n",
    "import os, io\n",
    "import re\n",
    "from google.cloud import vision\n",
    "from google.cloud import storage #Conecta con el storage de nuestro GCP\n",
    "from google.protobuf import json_format #Módulo de formato JSON"
   ]
  },
  {
   "cell_type": "code",
   "execution_count": 2,
   "id": "5ca39873",
   "metadata": {},
   "outputs": [],
   "source": [
    "#Token JSON File, que corresponde a la Key creada en las credenciales \n",
    "#relacionadas con la API de Cloud Vision\n",
    "os.environ['GOOGLE_APPLICATION_CREDENTIALS'] = r'ServiceAccountToken.json'"
   ]
  },
  {
   "cell_type": "markdown",
   "id": "2cd40caa",
   "metadata": {},
   "source": [
    "<img src=\"Imagenes/Key_API_Vision.png\" alt=\"IPython Notebook\"/>"
   ]
  },
  {
   "cell_type": "code",
   "execution_count": 3,
   "id": "8609002a",
   "metadata": {},
   "outputs": [],
   "source": [
    "#ImageAnnotatorCliente es el servicio que realiza tareas de detección de la \n",
    "#API de Google Cloud Vision. En este caso queremos detectar texto de un \n",
    "#archivo pdf\n",
    "client = vision.ImageAnnotatorClient()"
   ]
  },
  {
   "cell_type": "code",
   "execution_count": 4,
   "id": "eb78733a",
   "metadata": {},
   "outputs": [],
   "source": [
    "#Creamos un tamaño de lote = 2 para nuestros resultados\n",
    "batch_size = 2\n",
    "mime_type = 'application/pdf' #Naturaleza y formato del documento\n",
    "\n",
    "#A continuación construimos una instancia tipo Feature de cloud Vision,\n",
    "#concretamente la detección de texto en documentos\n",
    "feature = vision.types.Feature( \n",
    "    type=vision.enums.Feature.Type.DOCUMENT_TEXT_DETECTION)"
   ]
  },
  {
   "cell_type": "code",
   "execution_count": 5,
   "id": "4c8d04c3",
   "metadata": {},
   "outputs": [],
   "source": [
    "#Indicamos dónde se encuentra el archivo que deseamos analizar,\n",
    "#el cual se encuentra en el storage de GCP, concretamente en el \n",
    "#bucket vidaslaborales_iberasis con nombre vidalaboral.pdf\n",
    "\n",
    "#La url del archivo lo encontramos en los detalles del mismo en GCS\n",
    "gcs_source_uri = 'gs://vidaslaborales_iberasis/vidalaboral.pdf'\n",
    "gcs_source = vision.types.GcsSource(uri=gcs_source_uri)\n",
    "input_config = vision.types.InputConfig(gcs_source=gcs_source, mime_type=mime_type)"
   ]
  },
  {
   "cell_type": "markdown",
   "id": "64d6aba5",
   "metadata": {},
   "source": [
    "<img src=\"Imagenes/GCS.png\" alt=\"IPython Notebook\" />"
   ]
  },
  {
   "cell_type": "code",
   "execution_count": 6,
   "id": "339770c3",
   "metadata": {},
   "outputs": [],
   "source": [
    "#El resultado de la detección de texto del PDF relacionado con la vida laboral\n",
    "#se guardará en el mismo bucket y con formato JSON\n",
    "gcs_destination_uri = 'gs://vidaslaborales_iberasis/resultados '\n",
    "gcs_destination = vision.types.GcsDestination(uri=gcs_destination_uri)\n",
    "output_config = vision.types.OutputConfig(gcs_destination=gcs_destination, batch_size=batch_size)"
   ]
  },
  {
   "cell_type": "code",
   "execution_count": 7,
   "id": "6fdf488f",
   "metadata": {},
   "outputs": [],
   "source": [
    "#Creamos un request con un objeto tipo input config\n",
    "async_request = vision.types.AsyncAnnotateFileRequest(\n",
    "    features=[feature], input_config=input_config, output_config=output_config)"
   ]
  },
  {
   "cell_type": "code",
   "execution_count": 8,
   "id": "2edcaf01",
   "metadata": {},
   "outputs": [
    {
     "data": {
      "text/plain": [
       "responses {\n",
       "  output_config {\n",
       "    gcs_destination {\n",
       "      uri: \"gs://vidaslaborales_iberasis/resultados \"\n",
       "    }\n",
       "    batch_size: 2\n",
       "  }\n",
       "}"
      ]
     },
     "execution_count": 8,
     "metadata": {},
     "output_type": "execute_result"
    }
   ],
   "source": [
    "#Creamos nuestro código de operación con un tiempo de 3 minutos\n",
    "operation = client.async_batch_annotate_files(requests=[async_request])\n",
    "operation.result(timeout=180)"
   ]
  },
  {
   "cell_type": "code",
   "execution_count": 9,
   "id": "52b7ecb2",
   "metadata": {},
   "outputs": [],
   "source": [
    "#API Google Cloud Storage\n",
    "storage_client = storage.Client()\n",
    "#Seperación de elementos en diferentes grupos\n",
    "match = re.match(r'gs://([^/]+)/(.+)', gcs_destination_uri)\n",
    "bucket_name = match.group(1) #Grupo 1\n",
    "prefix = match.group(2) #Grupo 2\n",
    "bucket = storage_client.get_bucket(bucket_name) #Buscamos el archivo que hemos\n",
    "                                                #usado para realizar la \n",
    "                                                #operación"
   ]
  },
  {
   "cell_type": "code",
   "execution_count": 10,
   "id": "11628236",
   "metadata": {},
   "outputs": [
    {
     "name": "stdout",
     "output_type": "stream",
     "text": [
      "Output files:\n",
      "resultados output-1-to-2.json\n",
      "resultados output-3-to-4.json\n"
     ]
    }
   ],
   "source": [
    "#En GCS se utiliza el término blob para identificar el output que se ha\n",
    "#generado utilizando la API, el cual corresponde a un objeto de lsita con el\n",
    "#prefijo dado\n",
    "blob_list = list(bucket.list_blobs(prefix=prefix))\n",
    "print('Output files:')\n",
    "for blob in blob_list:\n",
    "    print(blob.name)"
   ]
  },
  {
   "cell_type": "markdown",
   "id": "b351474f",
   "metadata": {},
   "source": [
    "Observamos que nuestro programa nos devuelve 2 archivos json con la información extraída del pdf relacionado con la vida laboral:\n",
    "\n",
    "<img src=\"Imagenes/Output.png\" alt=\"IPython Notebook\"/>"
   ]
  },
  {
   "cell_type": "code",
   "execution_count": 12,
   "id": "aca66547",
   "metadata": {},
   "outputs": [],
   "source": [
    "#Creamos un objeto de respuesta que utiliza el método \n",
    "#AnnotateFileResponse para generar una salida del objeto \n",
    "#en formato json\n",
    "output = blob_list[0]\n",
    "json_string = output.download_as_string()\n",
    "response = json_format.Parse(\n",
    "            json_string, vision.types.AnnotateFileResponse())"
   ]
  },
  {
   "cell_type": "code",
   "execution_count": 13,
   "id": "b66ded64",
   "metadata": {},
   "outputs": [],
   "source": [
    "#Del objeto response, declaramos la posición 0 del mismo como \n",
    "#first_page_response ya que corresponde con la primera página del pdf\n",
    "first_page_response = response.responses[0]\n",
    "#full_text_annotation nos devuelve las entidades detectadas del documento\n",
    "annotation = first_page_response.full_text_annotation"
   ]
  },
  {
   "cell_type": "code",
   "execution_count": 14,
   "id": "1ba40f17",
   "metadata": {},
   "outputs": [
    {
     "name": "stdout",
     "output_type": "stream",
     "text": [
      "GOBIERNO\n",
      "DE ESPAÑA\n",
      "MINISTERIO\n",
      "DE EMPLEO\n",
      "Y SEGURIDAD SOCIAL\n",
      "E\n",
      "TESORERÍA GENERAL\n",
      "DE LA SEGURIDAD SOCIAL\n",
      "INFORME DE\n",
      "VIDA LABORAL\n",
      "De los antecedentes obrantes en la Tesorería General de la Seguridad Social al día 30 de Abril de 2015, resulta que D/Da JOSE JAVIER ABELLAN\n",
      "MONTES, nacido/a el 29 de Enero de 1987, con Número de la Seguridad Social 081136091146, D.N.I. 038853816P, domicilio en CALLE OLIVAR N° 51\n",
      "PISO 5 PTA. 5, 08350 ARENYS DE MAR BARCELONA ha figurado en situación de alta en el Sistema de la Seguridad Social durante un total de\n",
      "2\n",
      "Años\n",
      "766\n",
      "días\n",
      "1\n",
      "Meses\n",
      "5\n",
      "Días\n",
      "Presenta las situaciones que se relacionan en las sucesivas hojas del presente informe.\n",
      "Cualquier duda o aclaración sobre este informe le será atendida en el teléfono 901 50 20 50, en la web www.seg-social.es o cualquier Administración de la Seguridad Social.\n",
      "La información sobre las situaciones indicadas no comprende ni los datos relativos a los Regímenes Especiales de los Funcionarios Civiles del Estado, de las\n",
      "Fuerzas Armadas y de los Funcionarios al servicio de la Administración de Justicia, ni los datos relativos a los periodos trabajados en el extranjero.\n",
      "A los efectos previstos en el artículo 5 de la Ley Orgánica 15/1999, de 13 de diciembre, de protección de datos de carácter personal se informa que los datos incorporados en el\n",
      "presente informe se encuentran incluidos en el Fichero General de Afiliación, creado por Orden de 27 de julio de 1994. Respecto a los citados datos podrá ejercitar los derechos\n",
      "de acceso, rectificación y cancelación en los términos previstos en dicha Ley Orgánica.\n",
      "y\n",
      "REFERENCIAS ELECTRÓNICAS\n",
      "Id. CEA:\n",
      "Fecha:\n",
      "Código CEA:\n",
      "Página:\n",
      "CEOYXUC1DHUZ 30/04/2015\n",
      "GMPT4-NR3KB-G5Z6M-K3ALR-ALZB2-4ZTAP\n",
      "1\n",
      "Este documento no será válido sin la referencia electrónica. La autenticidad de este documento puede ser comprobada hasta la fecha 25/10/2015 mediante el Código\n",
      "Electrónico de Autenticidad en la Sede Electrónica de la Seguridad Social, a través del Servicio de Verificación de Integridad de Documentos.\n",
      "C070CEA\n",
      "\n"
     ]
    }
   ],
   "source": [
    "#Finalmente, obserevamos el texto detectado resultante de la primera página\n",
    "print(annotation.text)"
   ]
  },
  {
   "cell_type": "markdown",
   "id": "d65ebba5",
   "metadata": {},
   "source": [
    "Observamos que nuestro programa ha detectado correctamente la información del documento relacionado con la vida laborable de una persona. El dato que nos interesará a la hora de verificar el documento será el código CEA, el cual recordemos que será comprobado mediante el servicio de verificación de integridad documental de la Seguridad Social utilizando Web Scraping con Selenium, una herramienta que permite utilizar un navegador web como si fuese un humano. En el caso del certificado de antecedentes penales, se utilizará también el web scraping con Selenium, esta vez con el servicio de verificación de certificados de Antecedentes Penales y Delitos de Naturaleza Sexual del Ministerio de Justicia, mediante el código seguro de verificación antes mencionado.\n",
    "\n",
    "El código CEA identificado mediante google cloud vision ha resultado en: GMPT4-NR3KB-G5Z6M-K3ALR-ALZB2-4ZTAP. A continuación, observamos una imagen del documento que hemos examinado, para comprobar que efectivamente, se ha extraído el código CEA correcto:\n",
    "\n",
    "<img src=\"Imagenes/CodigoCEA.png\" alt=\"IPython Notebook\" style=\"width: 500px;\"/>"
   ]
  },
  {
   "cell_type": "markdown",
   "id": "2e7e6108",
   "metadata": {},
   "source": [
    "***"
   ]
  },
  {
   "cell_type": "markdown",
   "id": "7d9574a5",
   "metadata": {},
   "source": [
    "<img src=\"Imagenes/ue.png\" alt=\"IPython Notebook\" style=\"width: 300px;\"/>"
   ]
  }
 ],
 "metadata": {
  "kernelspec": {
   "display_name": "Python 3",
   "language": "python",
   "name": "python3"
  },
  "language_info": {
   "codemirror_mode": {
    "name": "ipython",
    "version": 3
   },
   "file_extension": ".py",
   "mimetype": "text/x-python",
   "name": "python",
   "nbconvert_exporter": "python",
   "pygments_lexer": "ipython3",
   "version": "3.8.8"
  }
 },
 "nbformat": 4,
 "nbformat_minor": 5
}
